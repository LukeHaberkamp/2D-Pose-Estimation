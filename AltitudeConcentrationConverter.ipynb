{
  "nbformat": 4,
  "nbformat_minor": 0,
  "metadata": {
    "colab": {
      "provenance": [],
      "authorship_tag": "ABX9TyNKJfrxwK8CK1rKbKUMiGTd",
      "include_colab_link": true
    },
    "kernelspec": {
      "name": "python3",
      "display_name": "Python 3"
    },
    "language_info": {
      "name": "python"
    }
  },
  "cells": [
    {
      "cell_type": "markdown",
      "metadata": {
        "id": "view-in-github",
        "colab_type": "text"
      },
      "source": [
        "<a href=\"https://colab.research.google.com/github/LukeHaberkamp/2D-Pose-Estimation/blob/main/AltitudeConcentrationConverter.ipynb\" target=\"_parent\"><img src=\"https://colab.research.google.com/assets/colab-badge.svg\" alt=\"Open In Colab\"/></a>"
      ]
    },
    {
      "cell_type": "code",
      "source": [
        "def altitude2pa(alt, T=288.15):\n",
        "    \"\"\"\n",
        "    Convert altitude in feet to pressure in pascals.\n",
        "\n",
        "    Parameters:\n",
        "    alt (float): Altitude in feet.\n",
        "    T (float, optional): Temperature in Kelvin (default is 288.15 K,\n",
        "                         standard temperature at sea level according to\n",
        "                         the International Standard Atmosphere (ISA) model).\n",
        "\n",
        "    Returns:\n",
        "        float: Pressure in pascals.\n",
        "    \"\"\"\n",
        "\n",
        "    Ls = -0.00649 # Standard temperature lapse rate in K/m\n",
        "    g = 9.80665 # Gravitional constand in m/s^2\n",
        "    R = 287.05 # Universal gas constant in N*m/kg*K\n",
        "\n",
        "    # Convert altitude in feet to meters\n",
        "    h = alt / 3.28084\n",
        "\n",
        "    # Calculate the pressure ratio using the barometric formula\n",
        "    pressure_ratio = (1 + (Ls * h) / T) ** (g / (-R * Ls))\n",
        "\n",
        "    # Calculate pressure in pascals by multiplying pressure ratio x 1 atm\n",
        "    pressure = pressure_ratio * 101325\n",
        "    return pressure\n",
        "\n",
        "\n",
        "def calc_oxygen_conc(start_alt, target_alt, T=59, sea_level_O2=20.9):\n",
        "    \"\"\"\n",
        "    Calculate oxygen concentration for a target altitude given a starting altitude.\n",
        "\n",
        "    Parameters:\n",
        "    start_alt (float): Starting altitude in feet.\n",
        "    target_alt (float): Target altitude in feet.\n",
        "    T (float, optional): Temperature in Fahrenheit (default is 59 F == 288.15 K).\n",
        "    sea_level_O2 (float, optional): Oxygen concentration (FiO2) at sea level (default is 0.209).\n",
        "\n",
        "    Returns:\n",
        "        float: Oxygen concentration at the target altitude (FiO2).\n",
        "    \"\"\"\n",
        "\n",
        "    # Convert fahrenheit to kelvin\n",
        "    T = ((T - 32) / 1.8) + 273.15\n",
        "\n",
        "    # Convert altitude to pascals\n",
        "    start_pressure = altitude2pa(start_alt, T=T)\n",
        "    target_pressure = altitude2pa(target_alt, T=T)\n",
        "\n",
        "    # Calculate desired O2 concentration\n",
        "    required_FiO2 = (sea_level_O2 / 100) * (target_pressure / start_pressure) * 100\n",
        "    return required_FiO2"
      ],
      "metadata": {
        "id": "C0R7FB9P4GxU"
      },
      "execution_count": 1,
      "outputs": []
    },
    {
      "cell_type": "code",
      "source": [
        "O2_conc = calc_oxygen_conc(8000, 18000, T=69)\n",
        "\n",
        "print(f\"Desired O2 concentration: {O2_conc:.2f}\")"
      ],
      "metadata": {
        "colab": {
          "base_uri": "https://localhost:8080/"
        },
        "id": "RXGezc5E479M",
        "outputId": "0d1de9d9-936b-46e8-a3d8-7444c59848f9"
      },
      "execution_count": 2,
      "outputs": [
        {
          "output_type": "stream",
          "name": "stdout",
          "text": [
            "Desired O2 concentration: 14.17\n"
          ]
        }
      ]
    }
  ]
}